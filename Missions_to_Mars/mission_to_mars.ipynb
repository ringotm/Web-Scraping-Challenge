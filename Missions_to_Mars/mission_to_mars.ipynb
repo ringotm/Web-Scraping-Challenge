{
 "metadata": {
  "language_info": {
   "codemirror_mode": {
    "name": "ipython",
    "version": 3
   },
   "file_extension": ".py",
   "mimetype": "text/x-python",
   "name": "python",
   "nbconvert_exporter": "python",
   "pygments_lexer": "ipython3",
   "version": "3.7.7-final"
  },
  "orig_nbformat": 2,
  "kernelspec": {
   "name": "python37464bitbaseconda68e905bc638043beabf2e502caa344b2",
   "display_name": "Python 3.7.4 64-bit ('base': conda)"
  }
 },
 "nbformat": 4,
 "nbformat_minor": 2,
 "cells": [
  {
   "cell_type": "code",
   "execution_count": 1,
   "metadata": {},
   "outputs": [],
   "source": [
    "import pandas as pd\n",
    "from bs4 import BeautifulSoup\n",
    "import time\n",
    "from splinter import Browser"
   ]
  },
  {
   "cell_type": "code",
   "execution_count": 2,
   "metadata": {},
   "outputs": [],
   "source": [
    "mars_news_url = 'https://mars.nasa.gov/news/?page=0&per_page=40&order=publish_date+desc%2Ccreated_at+desc&search=&category=19%2C165%2C184%2C204&blank_scope=Latest'\n"
   ]
  },
  {
   "cell_type": "code",
   "execution_count": 3,
   "metadata": {},
   "outputs": [],
   "source": [
    "path = {\"executable_path\": \"chromedriver.exe\"}\n",
    "browser = Browser(\"chrome\", **path, headless=True)"
   ]
  },
  {
   "cell_type": "code",
   "execution_count": 4,
   "metadata": {},
   "outputs": [],
   "source": [
    "browser.visit(mars_news_url)\n",
    "time.sleep(1)\n",
    "html = browser.html\n",
    "soup = BeautifulSoup(html, 'html.parser')"
   ]
  },
  {
   "cell_type": "code",
   "execution_count": 5,
   "metadata": {},
   "outputs": [
    {
     "output_type": "execute_result",
     "data": {
      "text/plain": "\"NASA's MAVEN Observes Martian Night Sky Pulsing in Ultraviolet Light\""
     },
     "metadata": {},
     "execution_count": 5
    }
   ],
   "source": [
    "news_title = soup.find('div', class_='list_text').find('div', class_='content_title').text\n",
    "news_title"
   ]
  },
  {
   "cell_type": "code",
   "execution_count": 6,
   "metadata": {},
   "outputs": [
    {
     "output_type": "execute_result",
     "data": {
      "text/plain": "'Vast areas of the Martian night sky pulse in ultraviolet light, according to images from NASA’s MAVEN spacecraft. The results are being used to illuminate complex circulation patterns in the Martian atmosphere.'"
     },
     "metadata": {},
     "execution_count": 6
    }
   ],
   "source": [
    "news_p = soup.find('div', class_='article_teaser_body').text\n",
    "news_p"
   ]
  },
  {
   "cell_type": "code",
   "execution_count": 7,
   "metadata": {},
   "outputs": [],
   "source": [
    "mars_image_url = 'https://www.jpl.nasa.gov/spaceimages/?search=&category=Mars'"
   ]
  },
  {
   "cell_type": "code",
   "execution_count": 8,
   "metadata": {},
   "outputs": [],
   "source": [
    "browser.visit(mars_image_url)\n",
    "time.sleep(1)"
   ]
  },
  {
   "cell_type": "code",
   "execution_count": 9,
   "metadata": {},
   "outputs": [],
   "source": [
    "html = browser.html\n",
    "soup = BeautifulSoup(html, 'html.parser')"
   ]
  },
  {
   "cell_type": "code",
   "execution_count": 10,
   "metadata": {},
   "outputs": [
    {
     "output_type": "execute_result",
     "data": {
      "text/plain": "'/spaceimages/images/largesize/PIA24055_hires.jpg'"
     },
     "metadata": {},
     "execution_count": 10
    }
   ],
   "source": [
    "mars_images = soup.find('li', class_='slide').find('a', class_='fancybox')['data-fancybox-href']\n",
    "mars_images"
   ]
  },
  {
   "cell_type": "code",
   "execution_count": 11,
   "metadata": {},
   "outputs": [
    {
     "output_type": "execute_result",
     "data": {
      "text/plain": "'jpl.nasa.gov/spaceimages/images/largesize/PIA24055_hires.jpg'"
     },
     "metadata": {},
     "execution_count": 11
    }
   ],
   "source": [
    "base_url = 'jpl.nasa.gov'\n",
    "featured_image_url = base_url + mars_images\n",
    "featured_image_url"
   ]
  },
  {
   "cell_type": "code",
   "execution_count": 12,
   "metadata": {},
   "outputs": [
    {
     "output_type": "execute_result",
     "data": {
      "text/plain": "'https://twitter.com/marswxreport?lang=en'"
     },
     "metadata": {},
     "execution_count": 12
    }
   ],
   "source": [
    "mars_twitter_url = 'https://twitter.com/marswxreport?lang=en'\n",
    "mars_twitter_url"
   ]
  },
  {
   "cell_type": "code",
   "execution_count": 13,
   "metadata": {},
   "outputs": [],
   "source": [
    "browser.visit(mars_twitter_url)\n",
    "time.sleep(2)\n",
    "html = browser.html\n",
    "soup = BeautifulSoup(html, 'html.parser')"
   ]
  },
  {
   "cell_type": "code",
   "execution_count": 14,
   "metadata": {},
   "outputs": [
    {
     "output_type": "execute_result",
     "data": {
      "text/plain": "'InSight sol 603 (2020-08-07) low -91.3ºC (-132.4ºF) high -12.2ºC (10.0ºF)\\nwinds from the W at 6.6 m/s (14.8 mph) gusting to 17.2 m/s (38.4 mph)\\npressure at 7.90 hPa'"
     },
     "metadata": {},
     "execution_count": 14
    }
   ],
   "source": [
    "mars_weather=''\n",
    "tweets = browser.find_by_css('.css-901oao.css-16my406.r-1qd0xha.r-ad9z0x.r-bcqeeo.r-qvutc0')\n",
    "for tweet in tweets:\n",
    "    if tweet.text.startswith('InSight'):\n",
    "        mars_weather = tweet.text\n",
    "        break\n",
    "mars_weather"
   ]
  },
  {
   "cell_type": "code",
   "execution_count": 15,
   "metadata": {},
   "outputs": [],
   "source": [
    "mars_facts_url = 'https://space-facts.com/mars/'\n",
    "browser.visit(mars_facts_url)\n",
    "time.sleep(1)\n",
    "#html = browser.html\n",
    "#soup = BeautifulSoup(html, 'html.parser')"
   ]
  },
  {
   "cell_type": "code",
   "execution_count": 16,
   "metadata": {},
   "outputs": [
    {
     "output_type": "execute_result",
     "data": {
      "text/plain": "'<table border=\"1\" class=\"dataframe\">  <thead>    <tr style=\"text-align: left;\">      <th></th>      <th>Facts</th>    </tr>    <tr>      <th></th>      <th></th>    </tr>  </thead>  <tbody>    <tr>      <th>Equatorial Diameter:</th>      <td>6,792 km</td>    </tr>    <tr>      <th>Polar Diameter:</th>      <td>6,752 km</td>    </tr>    <tr>      <th>Mass:</th>      <td>6.39 × 10^23 kg (0.11 Earths)</td>    </tr>    <tr>      <th>Moons:</th>      <td>2 (Phobos &amp; Deimos)</td>    </tr>    <tr>      <th>Orbit Distance:</th>      <td>227,943,824 km (1.38 AU)</td>    </tr>    <tr>      <th>Orbit Period:</th>      <td>687 days (1.9 years)</td>    </tr>    <tr>      <th>Surface Temperature:</th>      <td>-87 to -5 °C</td>    </tr>    <tr>      <th>First Record:</th>      <td>2nd millennium BC</td>    </tr>    <tr>      <th>Recorded By:</th>      <td>Egyptian astronomers</td>    </tr>  </tbody></table>'"
     },
     "metadata": {},
     "execution_count": 16
    }
   ],
   "source": [
    "mars_table = pd.read_html(mars_facts_url)[0]\n",
    "mars_table = mars_table.set_index(0).rename(columns= {1: 'Facts'})\n",
    "mars_table.index.name = ''\n",
    "mars_html_table = mars_table.to_html(justify=\"left\")\n",
    "mars_html_table = mars_html_table.replace(\"\\n\", \"\")\n",
    "mars_html_table"
   ]
  },
  {
   "cell_type": "code",
   "execution_count": 17,
   "metadata": {},
   "outputs": [],
   "source": [
    "mars_astrogeology_url = 'https://astrogeology.usgs.gov/search/results?q=hemisphere+enhanced&k1=target&v1=Mars'"
   ]
  },
  {
   "cell_type": "code",
   "execution_count": 18,
   "metadata": {},
   "outputs": [],
   "source": [
    "browser.visit(mars_astrogeology_url)\n",
    "time.sleep(1)\n",
    "html = browser.html\n",
    "soup = BeautifulSoup(html, 'html.parser')"
   ]
  },
  {
   "cell_type": "code",
   "execution_count": 19,
   "metadata": {},
   "outputs": [],
   "source": [
    "links = soup.find_all('div', class_='description')"
   ]
  },
  {
   "cell_type": "code",
   "execution_count": 20,
   "metadata": {},
   "outputs": [],
   "source": [
    "base_url = 'https://astrogeology.usgs.gov'\n"
   ]
  },
  {
   "cell_type": "code",
   "execution_count": 21,
   "metadata": {},
   "outputs": [
    {
     "output_type": "execute_result",
     "data": {
      "text/plain": "[{'title': 'Cerberus Hemisphere',\n  'url': 'https://astropedia.astrogeology.usgs.gov/download/Mars/Viking/cerberus_enhanced.tif/full.jpg'},\n {'title': 'Schiaparelli Hemisphere',\n  'url': 'https://astropedia.astrogeology.usgs.gov/download/Mars/Viking/schiaparelli_enhanced.tif/full.jpg'},\n {'title': 'Syrtis Major Hemisphere',\n  'url': 'https://astropedia.astrogeology.usgs.gov/download/Mars/Viking/syrtis_major_enhanced.tif/full.jpg'},\n {'title': 'Valles Marineris Hemisphere',\n  'url': 'https://astropedia.astrogeology.usgs.gov/download/Mars/Viking/valles_marineris_enhanced.tif/full.jpg'}]"
     },
     "metadata": {},
     "execution_count": 21
    }
   ],
   "source": [
    "hemisphere_image_urls = []\n",
    "for link in links:\n",
    "    mars_dict = {}\n",
    "    browser.visit(base_url + link.a['href'])\n",
    "    html = browser.html\n",
    "    soup = BeautifulSoup(html, 'html.parser')\n",
    "    mars_dict['title'] = soup.find('h2', class_='title').text[:-9]\n",
    "    mars_dict['url'] = soup.find('li').a['href']\n",
    "    hemisphere_image_urls.append(mars_dict)\n",
    "    time.sleep(1)\n",
    "hemisphere_image_urls"
   ]
  }
 ]
}